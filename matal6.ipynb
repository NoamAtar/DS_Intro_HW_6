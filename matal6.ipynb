{
 "cells": [
  {
   "cell_type": "code",
   "execution_count": 4,
   "id": "0c0eb8cb",
   "metadata": {
    "scrolled": true
   },
   "outputs": [
    {
     "data": {
      "text/html": [
       "<div>\n",
       "<style scoped>\n",
       "    .dataframe tbody tr th:only-of-type {\n",
       "        vertical-align: middle;\n",
       "    }\n",
       "\n",
       "    .dataframe tbody tr th {\n",
       "        vertical-align: top;\n",
       "    }\n",
       "\n",
       "    .dataframe thead th {\n",
       "        text-align: right;\n",
       "    }\n",
       "</style>\n",
       "<table border=\"1\" class=\"dataframe\">\n",
       "  <thead>\n",
       "    <tr style=\"text-align: right;\">\n",
       "      <th></th>\n",
       "      <th>city</th>\n",
       "      <th>country</th>\n",
       "      <th>Descrption</th>\n",
       "    </tr>\n",
       "  </thead>\n",
       "  <tbody>\n",
       "    <tr>\n",
       "      <th>0</th>\n",
       "      <td>Antalya</td>\n",
       "      <td>Turkey</td>\n",
       "      <td>[\"Once seen simply as the gateway to the Turki...</td>\n",
       "    </tr>\n",
       "    <tr>\n",
       "      <th>1</th>\n",
       "      <td>Athens</td>\n",
       "      <td>Greece</td>\n",
       "      <td>['With equal measures of grunge and grace, Ath...</td>\n",
       "    </tr>\n",
       "    <tr>\n",
       "      <th>2</th>\n",
       "      <td>Ayia-napa</td>\n",
       "      <td>Cyprus</td>\n",
       "      <td>[\"Endless blue-sky days and a coastline riddle...</td>\n",
       "    </tr>\n",
       "    <tr>\n",
       "      <th>3</th>\n",
       "      <td>Bangkok</td>\n",
       "      <td>Thailand</td>\n",
       "      <td>['Same same, but different. This Thailish T-sh...</td>\n",
       "    </tr>\n",
       "    <tr>\n",
       "      <th>4</th>\n",
       "      <td>Barcelona</td>\n",
       "      <td>Spain</td>\n",
       "      <td>['Barcelona is an enchanting seaside city with...</td>\n",
       "    </tr>\n",
       "    <tr>\n",
       "      <th>...</th>\n",
       "      <td>...</td>\n",
       "      <td>...</td>\n",
       "      <td>...</td>\n",
       "    </tr>\n",
       "    <tr>\n",
       "      <th>71</th>\n",
       "      <td>Venice</td>\n",
       "      <td>Italy</td>\n",
       "      <td>['Imagine the audacity of building a city of m...</td>\n",
       "    </tr>\n",
       "    <tr>\n",
       "      <th>72</th>\n",
       "      <td>Vienna</td>\n",
       "      <td>Austria</td>\n",
       "      <td>[\"Baroque streetscapes and imperial palaces se...</td>\n",
       "    </tr>\n",
       "    <tr>\n",
       "      <th>73</th>\n",
       "      <td>Warsaw</td>\n",
       "      <td>Poland</td>\n",
       "      <td>[\"A phoenix arisen from the ashes, Poland's ca...</td>\n",
       "    </tr>\n",
       "    <tr>\n",
       "      <th>74</th>\n",
       "      <td>Zakynthos</td>\n",
       "      <td>Greece</td>\n",
       "      <td>[\"Zakynthos, also known by its Italian name Za...</td>\n",
       "    </tr>\n",
       "    <tr>\n",
       "      <th>75</th>\n",
       "      <td>Zurich</td>\n",
       "      <td>Switzerland</td>\n",
       "      <td>[\"Culturally vibrant, efficiently run and attr...</td>\n",
       "    </tr>\n",
       "  </tbody>\n",
       "</table>\n",
       "<p>76 rows × 3 columns</p>\n",
       "</div>"
      ],
      "text/plain": [
       "         city      country                                         Descrption\n",
       "0     Antalya       Turkey  [\"Once seen simply as the gateway to the Turki...\n",
       "1      Athens       Greece  ['With equal measures of grunge and grace, Ath...\n",
       "2   Ayia-napa       Cyprus  [\"Endless blue-sky days and a coastline riddle...\n",
       "3     Bangkok     Thailand  ['Same same, but different. This Thailish T-sh...\n",
       "4   Barcelona        Spain  ['Barcelona is an enchanting seaside city with...\n",
       "..        ...          ...                                                ...\n",
       "71     Venice        Italy  ['Imagine the audacity of building a city of m...\n",
       "72     Vienna      Austria  [\"Baroque streetscapes and imperial palaces se...\n",
       "73     Warsaw       Poland  [\"A phoenix arisen from the ashes, Poland's ca...\n",
       "74  Zakynthos       Greece  [\"Zakynthos, also known by its Italian name Za...\n",
       "75     Zurich  Switzerland  [\"Culturally vibrant, efficiently run and attr...\n",
       "\n",
       "[76 rows x 3 columns]"
      ]
     },
     "execution_count": 4,
     "metadata": {},
     "output_type": "execute_result"
    }
   ],
   "source": [
    "import requests\n",
    "import re\n",
    "import pandas as pd\n",
    "from bs4 import BeautifulSoup\n",
    "import numpy as np\n",
    "import matplotlib.pyplot as plt\n",
    "df = pd.read_csv(\"C:\\\\Users\\\\97254\\\\Desktop\\\\HW5\\\\LP_destinations.csv\",sep=\",\")\n",
    "df\n"
   ]
  },
  {
   "cell_type": "code",
   "execution_count": 13,
   "id": "d9a5d8cd",
   "metadata": {
    "scrolled": false
   },
   "outputs": [
    {
     "name": "stdout",
     "output_type": "stream",
     "text": [
      "         city      country                                         Descrption  \\\n",
      "0     Antalya       Turkey  [\"Once seen simply as the gateway to the Turki...   \n",
      "1      Athens       Greece  ['With equal measures of grunge and grace, Ath...   \n",
      "2   Ayia-napa       Cyprus  [\"Endless blue-sky days and a coastline riddle...   \n",
      "3     Bangkok     Thailand  ['Same same, but different. This Thailish T-sh...   \n",
      "4   Barcelona        Spain  ['Barcelona is an enchanting seaside city with...   \n",
      "..        ...          ...                                                ...   \n",
      "71     Venice        Italy  ['Imagine the audacity of building a city of m...   \n",
      "72     Vienna      Austria  [\"Baroque streetscapes and imperial palaces se...   \n",
      "73     Warsaw       Poland  [\"A phoenix arisen from the ashes, Poland's ca...   \n",
      "74  Zakynthos       Greece  [\"Zakynthos, also known by its Italian name Za...   \n",
      "75     Zurich  Switzerland  [\"Culturally vibrant, efficiently run and attr...   \n",
      "\n",
      "    num_of_words  has_restaurants  has_museums  has_beaches  \n",
      "0            112                0            1            1  \n",
      "1            391                1            0            2  \n",
      "2            148                0            0            2  \n",
      "3            388                1            0            0  \n",
      "4            413                1            2            7  \n",
      "..           ...              ...          ...          ...  \n",
      "71           411                0            0            2  \n",
      "72           408                1            3            0  \n",
      "73           403                1            2            1  \n",
      "74           118                0            0            0  \n",
      "75           120                0            0            0  \n",
      "\n",
      "[76 rows x 7 columns]\n"
     ]
    }
   ],
   "source": [
    "df[\"num_of_words\"] = \" \"\n",
    "thislist=[]\n",
    "for index, row in df.iterrows():\n",
    "    Description=row['Descrption']\n",
    "    word_list = Description.split()\n",
    "    number_of_words = len(word_list)\n",
    "    df['num_of_words']=number_of_words\n",
    "    thislist.append(number_of_words)\n",
    "df[\"num_of_words\"] = thislist\n",
    "print(df)  \n",
    "    "
   ]
  },
  {
   "cell_type": "code",
   "execution_count": 15,
   "id": "5853d52d",
   "metadata": {},
   "outputs": [],
   "source": [
    "No_punct_description = [] \n",
    "b =\"\\,.:-;…,\"\n",
    "for line in df['Descrption']:\n",
    "    for char in b:\n",
    "        line = line.replace(char,\"\")\n",
    "    No_punct_description.append(line)\n",
    "df['No_punct_description'] = No_punct_description"
   ]
  },
  {
   "cell_type": "code",
   "execution_count": 16,
   "id": "12e68f3e",
   "metadata": {
    "scrolled": true
   },
   "outputs": [
    {
     "name": "stdout",
     "output_type": "stream",
     "text": [
      "         city      country                                         Descrption  \\\n",
      "0     Antalya       Turkey  [\"Once seen simply as the gateway to the Turki...   \n",
      "1      Athens       Greece  ['With equal measures of grunge and grace, Ath...   \n",
      "2   Ayia-napa       Cyprus  [\"Endless blue-sky days and a coastline riddle...   \n",
      "3     Bangkok     Thailand  ['Same same, but different. This Thailish T-sh...   \n",
      "4   Barcelona        Spain  ['Barcelona is an enchanting seaside city with...   \n",
      "..        ...          ...                                                ...   \n",
      "71     Venice        Italy  ['Imagine the audacity of building a city of m...   \n",
      "72     Vienna      Austria  [\"Baroque streetscapes and imperial palaces se...   \n",
      "73     Warsaw       Poland  [\"A phoenix arisen from the ashes, Poland's ca...   \n",
      "74  Zakynthos       Greece  [\"Zakynthos, also known by its Italian name Za...   \n",
      "75     Zurich  Switzerland  [\"Culturally vibrant, efficiently run and attr...   \n",
      "\n",
      "    num_of_words  has_restaurants  has_museums  has_beaches  \\\n",
      "0            112                0            1            1   \n",
      "1            391                1            0            2   \n",
      "2            148                0            0            2   \n",
      "3            388                1            0            0   \n",
      "4            413                1            2            7   \n",
      "..           ...              ...          ...          ...   \n",
      "71           411                0            0            2   \n",
      "72           408                1            3            0   \n",
      "73           403                1            2            1   \n",
      "74           118                0            0            0   \n",
      "75           120                0            0            0   \n",
      "\n",
      "                                 No_punct_description  \n",
      "0   [\"Once seen simply as the gateway to the Turki...  \n",
      "1   ['With equal measures of grunge and grace Athe...  \n",
      "2   [\"Endless bluesky days and a coastline riddled...  \n",
      "3   ['Same same but different This Thailish Tshirt...  \n",
      "4   ['Barcelona is an enchanting seaside city with...  \n",
      "..                                                ...  \n",
      "71  ['Imagine the audacity of building a city of m...  \n",
      "72  [\"Baroque streetscapes and imperial palaces se...  \n",
      "73  [\"A phoenix arisen from the ashes Poland's cap...  \n",
      "74  [\"Zakynthos also known by its Italian name Zan...  \n",
      "75  [\"Culturally vibrant efficiently run and attra...  \n",
      "\n",
      "[76 rows x 8 columns]\n"
     ]
    }
   ],
   "source": [
    "df[\"has_restaurants\"] = \" \"\n",
    "df[\"has_museums\"] = \" \"\n",
    "df[\"has_beaches\"] = \" \"\n",
    "thislist1=[]\n",
    "thislist2=[]\n",
    "thislist3=[]\n",
    "for index, row in df.iterrows():\n",
    "    Description=row['Descrption']\n",
    "    str_count1 = Description.count('restaurant')\n",
    "    str_count2=Description.count('museum')\n",
    "    str_count3=Description.count('beach')\n",
    "    str_count4=Description.count('ocean')\n",
    "    str_count5=Description.count('sea')\n",
    "    str_countT=str_count3+str_count4+str_count5\n",
    "    thislist1.append(str_count1)\n",
    "    thislist2.append(str_count2)\n",
    "    thislist3.append(str_countT)\n",
    "df[\"has_restaurants\"] = thislist1\n",
    "df[\"has_museums\"] =thislist2\n",
    "df[\"has_beaches\"] =thislist3\n",
    "print(df)"
   ]
  },
  {
   "cell_type": "code",
   "execution_count": 20,
   "id": "5f6339ef",
   "metadata": {},
   "outputs": [
    {
     "name": "stdout",
     "output_type": "stream",
     "text": [
      "271.88157894736844\n"
     ]
    }
   ],
   "source": [
    "average = df[\"num_of_words\"].mean()\n",
    "print(average)"
   ]
  },
  {
   "cell_type": "code",
   "execution_count": 11,
   "id": "bed0ebd8",
   "metadata": {},
   "outputs": [
    {
     "name": "stdout",
     "output_type": "stream",
     "text": [
      "Florence\n"
     ]
    }
   ],
   "source": [
    "average = df[\"num_of_words\"].mean()\n",
    "print(df.iloc[df['num_of_words'].idxmax()][\"city\"])"
   ]
  },
  {
   "cell_type": "code",
   "execution_count": 12,
   "id": "843275ec",
   "metadata": {},
   "outputs": [
    {
     "data": {
      "text/plain": [
       "array([[<AxesSubplot:title={'center':'num_of_words'}>]], dtype=object)"
      ]
     },
     "execution_count": 12,
     "metadata": {},
     "output_type": "execute_result"
    },
    {
     "data": {
      "image/png": "[encoded data removed]",
      "text/plain": [
       "<Figure size 432x288 with 1 Axes>"
      ]
     },
     "metadata": {
      "needs_background": "light"
     },
     "output_type": "display_data"
    }
   ],
   "source": [
    "df.hist(column='num_of_words')\n"
   ]
  },
  {
   "cell_type": "code",
   "execution_count": 13,
   "id": "5be0efa3",
   "metadata": {},
   "outputs": [
    {
     "data": {
      "text/plain": [
       "Text(0, 0.5, 'number of restaurants')"
      ]
     },
     "execution_count": 13,
     "metadata": {},
     "output_type": "execute_result"
    },
    {
     "data": {
      "image/png": "[encoded data removed]",
      "text/plain": [
       "<Figure size 432x288 with 1 Axes>"
      ]
     },
     "metadata": {
      "needs_background": "light"
     },
     "output_type": "display_data"
    }
   ],
   "source": [
    "import matplotlib.pyplot as plt\n",
    "plt.scatter(df.has_beaches, df.has_restaurants)\n",
    "plt.xlabel(\"number of beaches \")\n",
    "plt.ylabel(\"number of restaurants\")"
   ]
  },
  {
   "cell_type": "code",
   "execution_count": 136,
   "id": "7ed81bcf",
   "metadata": {},
   "outputs": [
    {
     "data": {
      "text/plain": [
       "Text(0, 0.5, 'number of beaches ')"
      ]
     },
     "execution_count": 136,
     "metadata": {},
     "output_type": "execute_result"
    },
    {
     "data": {
      "image/png": "[encoded data removed]",
      "text/plain": [
       "<Figure size 432x288 with 1 Axes>"
      ]
     },
     "metadata": {
      "needs_background": "light"
     },
     "output_type": "display_data"
    }
   ],
   "source": [
    "plt.scatter(df.has_museums, df.has_beaches)\n",
    "plt.xlabel(\"number of museums\")\n",
    "plt.ylabel(\"number of beaches\")"
   ]
  },
  {
   "cell_type": "code",
   "execution_count": null,
   "id": "68a7e8b7",
   "metadata": {},
   "outputs": [],
   "source": []
  }
 ],
 "metadata": {
  "kernelspec": {
   "display_name": "Python 3 (ipykernel)",
   "language": "python",
   "name": "python3"
  },
  "language_info": {
   "codemirror_mode": {
    "name": "ipython",
    "version": 3
   },
   "file_extension": ".py",
   "mimetype": "text/x-python",
   "name": "python",
   "nbconvert_exporter": "python",
   "pygments_lexer": "ipython3",
   "version": "3.9.7"
  }
 },
 "nbformat": 4,
 "nbformat_minor": 5
}
